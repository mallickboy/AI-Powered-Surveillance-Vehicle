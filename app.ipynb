{
 "cells": [
  {
   "cell_type": "code",
   "execution_count": 5,
   "metadata": {},
   "outputs": [
    {
     "name": "stdout",
     "output_type": "stream",
     "text": [
      "< cv2.VideoCapture 0000018F28CFAA30>\n"
     ]
    },
    {
     "ename": "KeyboardInterrupt",
     "evalue": "",
     "output_type": "error",
     "traceback": [
      "\u001b[1;31m---------------------------------------------------------------------------\u001b[0m",
      "\u001b[1;31mKeyboardInterrupt\u001b[0m                         Traceback (most recent call last)",
      "Cell \u001b[1;32mIn[5], line 16\u001b[0m\n\u001b[0;32m     12\u001b[0m     exit()\n\u001b[0;32m     14\u001b[0m \u001b[38;5;28;01mwhile\u001b[39;00m \u001b[38;5;28;01mTrue\u001b[39;00m:\n\u001b[0;32m     15\u001b[0m     \u001b[38;5;66;03m# Read a frame from the stream\u001b[39;00m\n\u001b[1;32m---> 16\u001b[0m     ret, frame \u001b[38;5;241m=\u001b[39m \u001b[43mcap\u001b[49m\u001b[38;5;241;43m.\u001b[39;49m\u001b[43mread\u001b[49m\u001b[43m(\u001b[49m\u001b[43m)\u001b[49m\n\u001b[0;32m     18\u001b[0m     \u001b[38;5;28;01mif\u001b[39;00m \u001b[38;5;129;01mnot\u001b[39;00m ret:\n\u001b[0;32m     19\u001b[0m         \u001b[38;5;28mprint\u001b[39m(\u001b[38;5;124m\"\u001b[39m\u001b[38;5;124mError: Failed to grab frame.\u001b[39m\u001b[38;5;124m\"\u001b[39m)\n",
      "\u001b[1;31mKeyboardInterrupt\u001b[0m: "
     ]
    }
   ],
   "source": [
    "import cv2\n",
    "import numpy as np\n",
    "\n",
    "# URL of your ESP32-CAM stream\n",
    "url = 'http://192.168.0.102:81/stream'\n",
    "\n",
    "# Open the video stream using OpenCV\n",
    "cap = cv2.VideoCapture(url)\n",
    "print(cap)\n",
    "if not cap.isOpened():\n",
    "    print(\"Error: Could not open the video stream.\")\n",
    "    exit()\n",
    "\n",
    "while True:\n",
    "    # Read a frame from the stream\n",
    "    ret, frame = cap.read()\n",
    "    \n",
    "    if not ret:\n",
    "        print(\"Error: Failed to grab frame.\")\n",
    "        break\n",
    "\n",
    "    # Perform modifications on the frame here\n",
    "    # Example: Convert the frame to grayscale\n",
    "    gray_frame = cv2.cvtColor(frame, cv2.COLOR_BGR2GRAY)\n",
    "\n",
    "    # Example: Apply a Gaussian blur\n",
    "    # blurred_frame = cv2.GaussianBlur(gray_frame, (15, 15), 0)\n",
    "\n",
    "    # Show the modified frame\n",
    "    cv2.imshow('ESP32-CAM Stream (Modified)', gray_frame)\n",
    "\n",
    "    # Break the loop if the 'q' key is pressed\n",
    "    if cv2.waitKey(1) & 0xFF == ord('q'):\n",
    "        break\n",
    "\n",
    "# Release resources and close OpenCV windows\n",
    "cap.release()\n",
    "cv2.destroyAllWindows()\n"
   ]
  },
  {
   "cell_type": "code",
   "execution_count": 2,
   "metadata": {},
   "outputs": [],
   "source": [
    "import cv2\n",
    "import numpy as np\n",
    "\n",
    "# URL of your ESP32-CAM stream\n",
    "url = 'http://192.168.0.102:81/stream'\n",
    "\n",
    "# Open the video stream using OpenCV\n",
    "cap = cv2.VideoCapture(url)\n",
    "\n",
    "if not cap.isOpened():\n",
    "    print(\"Error: Could not open the video stream.\")\n",
    "    exit()\n",
    "cv2.namedWindow('ESP32-CAM Stream (RGB)', cv2.WINDOW_NORMAL)\n",
    "cv2.resizeWindow('ESP32-CAM Stream (RGB)', 800, 600)  # Set window size to 1280x720\n",
    "while True:\n",
    "    try:\n",
    "        # Read a frame from the stream\n",
    "        ret, frame = cap.read()\n",
    "        \n",
    "        if not ret:\n",
    "            print(\"Error: Failed to grab frame.\")\n",
    "            break\n",
    "\n",
    "        # The frame is in BGR format (default in OpenCV), you can convert it to RGB if necessary:\n",
    "        rgb_frame = cv2.cvtColor(frame, cv2.COLOR_BGR2RGB)\n",
    "\n",
    "        # Now you can process the RGB frame or display it directly\n",
    "        cv2.imshow('ESP32-CAM Stream (RGB)', rgb_frame)\n",
    "\n",
    "        # Break the loop if the 'q' key is pressed\n",
    "        if cv2.waitKey(1) & 0xFF == ord('q'):\n",
    "            break\n",
    "    except:\n",
    "# Release resources and close OpenCV windows\n",
    "        cap.release()\n",
    "        cv2.destroyAllWindows()\n",
    "cap.release()\n",
    "cv2.destroyAllWindows()"
   ]
  },
  {
   "cell_type": "code",
   "execution_count": 25,
   "metadata": {},
   "outputs": [],
   "source": [
    "cap.release()\n",
    "cv2.destroyAllWindows()"
   ]
  },
  {
   "cell_type": "code",
   "execution_count": null,
   "metadata": {},
   "outputs": [],
   "source": [
    "import sys\n",
    "from PyQt5.QtWidgets import QApplication, QMainWindow\n",
    "from PyQt5 import uic\n",
    "\n",
    "# Load the .ui file using uic\n",
    "class MyGui(QMainWindow):\n",
    "    def __init__(self):\n",
    "        # super().__init__()\n",
    "        super(MyGui,self).__init__()\n",
    "        # Load the UI file\n",
    "        uic.loadUi(\"./esp32_app/form.ui\", self)  # Replace 'your_form.ui' with your file path\n",
    "        self.setFixedSize(810, 800)\n",
    "        self.show()\n",
    "        # groupBox_Video\n",
    "# Create the application and window\n",
    "app = QApplication(sys.argv)\n",
    "window = MyGui()\n",
    "window.show()\n",
    "\n",
    "# Run the application\n",
    "sys.exit(app.exec_())"
   ]
  }
 ],
 "metadata": {
  "kernelspec": {
   "display_name": "Python 3",
   "language": "python",
   "name": "python3"
  },
  "language_info": {
   "codemirror_mode": {
    "name": "ipython",
    "version": 3
   },
   "file_extension": ".py",
   "mimetype": "text/x-python",
   "name": "python",
   "nbconvert_exporter": "python",
   "pygments_lexer": "ipython3",
   "version": "3.12.3"
  }
 },
 "nbformat": 4,
 "nbformat_minor": 2
}
